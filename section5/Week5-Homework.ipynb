{
 "cells": [
  {
   "attachments": {},
   "cell_type": "markdown",
   "metadata": {},
   "source": [
    "1. What does Pandas stand for?\n",
    "* Pandas comes from the term \"Panel Data\" \n",
    "\n",
    "1. What are the 2 collections used in Pandas?\n",
    "* the 2 collections used in Pandas are Series and Dataframes. multiple Series make up a dataframe.\n",
    "\n",
    "1. Name 4 things Pandas can do for us.\n",
    "* Pandas can allow us to nomalize and visualize data.\n",
    "    \n",
    "1. To permanently sort a DataFrame, which keyword should one use with the df.sort() method?\n",
    "* to permanantly sort a Dataframe one can use the keyword \"inplace\" as an argument in the .sort() method\n",
    "\n",
    "1. What is a CSV\n",
    "* a CSV is a comma separted values file, and is a file that stored data tabularly.\n",
    "\n",
    "1. When cleaning data what values do we not like in our data?\n",
    "* Nulls a values we want to drop/fill when cleaning data."
   ]
  },
  {
   "cell_type": "code",
   "execution_count": null,
   "metadata": {},
   "outputs": [],
   "source": [
    "# 7. Import NumPy, use one of the NumPy methods and create an array with a shape of ... (2, 3, 2).\n",
    "# You can use the reshape method -- .reshape()\n",
    "import numpy as np\n",
    "array1 = np.random.rand(2,3,2)\n",
    "print(array1)"
   ]
  },
  {
   "cell_type": "code",
   "execution_count": null,
   "metadata": {},
   "outputs": [],
   "source": [
    "# 8. Use NumPy .linspace() to create an array with 6 linearly spaced values between 0 and 20\n",
    "array1 = np.linspace(0,20,num = 6)\n",
    "print(array1)\n",
    "\n",
    "# 9. Make a Deep Copy of the above array\n",
    "import copy\n",
    "array2 = copy.deepcopy(array1)\n",
    "\n",
    "print(array2)"
   ]
  },
  {
   "cell_type": "code",
   "execution_count": null,
   "metadata": {},
   "outputs": [],
   "source": [
    "# 11. Concatenate these 3 arrays into a new array named 'newArray'\n",
    "x1 = ([[25, 16]])\n",
    "y1 = ([[11, 2], [13, 4]])\n",
    "z1 = ([[7, 81], [5, 6], [11, 12]])\n",
    "newArray = np.concatenate((x1, y1, z1))\n",
    "print(newArray, \"\\n\")\n",
    "\n",
    "# 12. Sort 'newArray' in order into 'sortedArray'\n",
    "sortedArray = np.sort(newArray)\n",
    "print(sortedArray, \"\\n\")\n",
    "\n",
    "# 13. Reshape the 'sortedArray' array, into a new array called 'reshapedArray',\n",
    "# so it has 2 dimensions with a size of 2, 3.\n",
    "reshapedArray = sortedArray.reshape(2,2,3)\n",
    "print(reshapedArray,\"\\n\")\n",
    "\n",
    "# 14. Unpack the array tuples from the above 'reshapedArray' into 4 well named variables. Print the 4 variables.\n",
    "a, b = reshapedArray\n",
    "(c,d), (e,f) = a, b\n",
    "\n",
    "print(\"\\nc = \", c)\n",
    "print(\"d = \", d)\n",
    "print(\"e = \", e)\n",
    "print(\"f = \", f)"
   ]
  },
  {
   "cell_type": "code",
   "execution_count": 78,
   "metadata": {},
   "outputs": [
    {
     "data": {
      "text/plain": [
       "array([10, 11, 12, 13, 14, 15, 16, 17, 20, 21, 22, 23, 24, 25, 26, 27,  0,\n",
       "        1,  2,  3,  4,  5,  6,  7])"
      ]
     },
     "execution_count": 78,
     "metadata": {},
     "output_type": "execute_result"
    }
   ],
   "source": [
    "# 15. Combine and sort the following arrays into one called 'comboArray' ...\n",
    "one = np.array([10, 11, 12, 13, 14, 15, 16, 17])\n",
    "two = np.array([20, 21, 22, 23, 24, 25, 26, 27])\n",
    "three = np.array([ 0, 1, 2, 3, 4, 5, 6, 7])\n",
    "\n",
    "comboArray = np.concatenate((one,two,three))\n",
    "comboArray\n"
   ]
  },
  {
   "attachments": {},
   "cell_type": "markdown",
   "metadata": {},
   "source": [
    "### Don't do #'s 10, 17-19 !!"
   ]
  }
 ],
 "metadata": {
  "kernelspec": {
   "display_name": "Python 3",
   "language": "python",
   "name": "python3"
  },
  "language_info": {
   "codemirror_mode": {
    "name": "ipython",
    "version": 3
   },
   "file_extension": ".py",
   "mimetype": "text/x-python",
   "name": "python",
   "nbconvert_exporter": "python",
   "pygments_lexer": "ipython3",
   "version": "3.11.3"
  },
  "orig_nbformat": 4
 },
 "nbformat": 4,
 "nbformat_minor": 2
}
