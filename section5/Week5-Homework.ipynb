{
 "cells": [
  {
   "attachments": {},
   "cell_type": "markdown",
   "metadata": {},
   "source": [
    "1. What does Pandas stand for?\n",
    "* Pandas comes from the term \"Panel Data\" \n",
    "\n",
    "2. What are the 2 collections used in Pandas?\n",
    "* the 2 collections used in Pandas are Series and Dataframes. multiple Series make up a dataframe.\n",
    "\n",
    "3. Name 4 things Pandas can do for us.\n",
    "* Pandas can allow us to nomalize, visualize, inspect, and cleanse data\n",
    "    \n",
    "4. To permanently sort a DataFrame, which keyword should one use with the df.sort() method?\n",
    "* to permanantly sort a Dataframe one can use the keyword \"inplace\" as an argument in the .sort() method\n",
    "\n",
    "5. What is a CSV\n",
    "* a CSV is a comma separted values file, and is a file that stored data tabularly.\n",
    "\n",
    "6. When cleaning data what values do we not like in our data?\n",
    "* Nulls a values we want to drop/fill when cleaning data."
   ]
  },
  {
   "cell_type": "code",
   "execution_count": null,
   "metadata": {},
   "outputs": [],
   "source": [
    "# 7. Import NumPy, use one of the NumPy methods and create an array with a shape of ... (2, 3, 2).\n",
    "# You can use the reshape method -- .reshape()\n",
    "import numpy as np\n",
    "array1 = np.random.rand(2,3,2)\n",
    "print(array1)"
   ]
  },
  {
   "cell_type": "code",
   "execution_count": null,
   "metadata": {},
   "outputs": [],
   "source": [
    "# 8. Use NumPy .linspace() to create an array with 6 linearly spaced values between 0 and 20\n",
    "array1 = np.linspace(0,20,num = 6)\n",
    "print(array1)\n",
    "\n",
    "# 9. Make a Deep Copy of the above array\n",
    "import copy\n",
    "array2 = copy.deepcopy(array1)\n",
    "\n",
    "print(array2)"
   ]
  },
  {
   "attachments": {},
   "cell_type": "markdown",
   "metadata": {},
   "source": [
    "##### # 10 - Do NOT complete"
   ]
  },
  {
   "cell_type": "code",
   "execution_count": null,
   "metadata": {},
   "outputs": [],
   "source": [
    "# 11. Concatenate these 3 arrays into a new array named 'newArray'\n",
    "x1 = ([[25, 16]])\n",
    "y1 = ([[11, 2], [13, 4]])\n",
    "z1 = ([[7, 81], [5, 6], [11, 12]])\n",
    "newArray = np.concatenate((x1, y1, z1))\n",
    "print(newArray, \"\\n\")\n",
    "\n",
    "# 12. Sort 'newArray' in order into 'sortedArray'\n",
    "sortedArray = np.sort(newArray)\n",
    "print(sortedArray, \"\\n\")\n",
    "\n",
    "# 13. Reshape the 'sortedArray' array, into a new array called 'reshapedArray',\n",
    "# so it has 2 dimensions with a size of 2, 3.\n",
    "reshapedArray = sortedArray.reshape(2,2,3)\n",
    "print(reshapedArray,\"\\n\")\n",
    "\n",
    "# 14. Unpack the array tuples from the above 'reshapedArray' into 4 well named variables. Print the 4 variables.\n",
    "a, b = reshapedArray\n",
    "(c,d), (e,f) = a, b\n",
    "\n",
    "print(\"\\nc = \", c)\n",
    "print(\"d = \", d)\n",
    "print(\"e = \", e)\n",
    "print(\"f = \", f)"
   ]
  },
  {
   "cell_type": "code",
   "execution_count": 66,
   "metadata": {},
   "outputs": [
    {
     "name": "stdout",
     "output_type": "stream",
     "text": [
      "[ 0  1  2  3  4  5  6  7 10 11 12 13 14 15 16 17 20 21 22 23 24 25 26 27]\n",
      "\n",
      "2nd element...  1\n",
      "\n",
      "elements from the 3rd element to the last...  [ 2  3  4  5  6  7 10 11 12 13 14 15 16 17 20 21 22 23 24 25 26 27]\n",
      "\n",
      "element 4 through 14...  [ 3  4  5  6  7 10 11 12 13 14 15]\n",
      "\n",
      "last 6 elements...  [22 23 24 25 26 27]\n",
      "\n",
      "#'s 0-15, using negative indexing...  [ 0  1  2  3  4  5  6  7 10 11 12 13 14 15]\n",
      "\n",
      "from #20 on, only evens...  [20 22 24 26]\n",
      "\n",
      "every 5th element from end to front...  [ 1  6 13 20 25]\n"
     ]
    }
   ],
   "source": [
    "# 15. Combine and sort the following arrays into one called 'comboArray' ...\n",
    "one = np.array([10, 11, 12, 13, 14, 15, 16, 17])\n",
    "two = np.array([20, 21, 22, 23, 24, 25, 26, 27])\n",
    "three = np.array([ 0, 1, 2, 3, 4, 5, 6, 7])\n",
    "\n",
    "comboArray = np.concatenate((one,two,three))\n",
    "comboArray = np.sort(comboArray)\n",
    "print(comboArray)\n",
    "\n",
    "# 16. Take 'comboArray' and perform the following slicing activities:\n",
    "\n",
    "# # print sec1 - the 2nd element\n",
    "sec1 = comboArray[1]\n",
    "print(\"\\n2nd element... \", sec1)\n",
    "\n",
    "# # print sec2 - all elements from the 3rd element to the last\n",
    "sec2 = comboArray[2:]\n",
    "print(\"\\nelements from the 3rd element to the last... \", sec2)\n",
    "\n",
    "# print sec3 - all elements from the 4th to the 14th elements\n",
    "sec3 = comboArray[3:14]\n",
    "print(\"\\nelement 4 through 14... \", sec3)\n",
    "\n",
    "# print sec4 - the last 6 elements\n",
    "sec4 = comboArray[-6:]\n",
    "print(\"\\nlast 6 elements... \", sec4)\n",
    "\n",
    "# print sec5 - all element from #0 up to and including #15, using the negative number method, i.e. taking a section from the end.\n",
    "sec5 = comboArray[:-10]\n",
    "print(\"\\n#'s 0-15, using negative indexing... \", sec5)\n",
    "\n",
    "# print sec6 - from #20 every even element to the end\n",
    "sec6 = comboArray[-8::2]\n",
    "print(\"\\nfrom #20 on, only evens... \", sec6)\n",
    "\n",
    "# print sec7 - from the last element moving forward, every 5th element.\n",
    "sec7 = comboArray[1::5]\n",
    "print(\"\\nevery 5th element from end to front... \", sec7)"
   ]
  },
  {
   "attachments": {},
   "cell_type": "markdown",
   "metadata": {},
   "source": [
    "##### #'s 17-19 - Do NOT complete"
   ]
  },
  {
   "cell_type": "code",
   "execution_count": null,
   "metadata": {},
   "outputs": [],
   "source": [
    "# 20. Using Series, create a DataFrame\n",
    "import pandas as pd\n",
    "\n",
    "ingredients = pd.Series([\"Flour\", \"Milk\", \"Eggs\", \"Spam\"], name=\"ingredients\")\n",
    "quantity = pd.Series([4,1,2,1], name=\"quantity\")\n",
    "unit = pd.Series([\"cups\", \"cup\", \"large\", \"can\"], name=\"unit\")\n",
    "\n",
    "recipe1 = pd.concat([ingredients, quantity, unit], axis=1)\n",
    "recipe1"
   ]
  },
  {
   "cell_type": "code",
   "execution_count": null,
   "metadata": {},
   "outputs": [],
   "source": [
    "# 21. Take this data and create a DataFrame named studentData\n",
    "data = {'Name': ['Jai', 'janusha', 'Gaurav', 'Anuj'],\n",
    "        'Height': [5.1, 6.2, 5.1, 5.2],\n",
    "        'Qualification': ['Msc', 'MA', 'Msc', 'Msc'],\n",
    "        'address': ['Delhi', 'Doha', 'Chennai', 'Dakhar'],\n",
    "        'Age': [21, 23, 24, 21],\n",
    "        'Pets': ['Dog', 'Bunny', 'Chinchilla', 'Parrot'],\n",
    "        'sport': ['Darts', 'Basketball', 'PaddleBoarding', 'Cricket']\n",
    "    }\n",
    "\n",
    "studentData = pd.DataFrame(data)\n",
    "print(\"Original dataframe created from dictionaries...\\n\", studentData, \"\\n\")\n",
    "\n",
    "# 22. Add a new column to the DataFrame with deserts\n",
    "dessert = [\"ice cream\", \"Cashew Fudge\", \"waffels\", \"Carrot Halwa\"]\n",
    "studentData[\"Dessert\"] = dessert\n",
    "print(\"studentData dataframe with new \\\"dessert\\\" column added...\\n\", studentData)\n",
    "\n",
    "# 23. Sort the 'studentData' DataFrame in Ascending order -- Sorting by column 'Name' and then \"address\"\n",
    "studentData.sort_values(by = [\"Name\", \"address\"], ascending=True, inplace=True)\n",
    "studentData"
   ]
  },
  {
   "cell_type": "code",
   "execution_count": null,
   "metadata": {},
   "outputs": [],
   "source": [
    "# 24. Save this DataFrame here below to disc as a .CSV file with the name cows_and_goats.csv:\n",
    "df = pd.DataFrame({'Cows': [12, 20], 'Goats': [22, 19]}, index=['Year 1', 'Year 2'])\n",
    "df.to_csv('cows_and_goats.csv')"
   ]
  },
  {
   "cell_type": "code",
   "execution_count": null,
   "metadata": {},
   "outputs": [],
   "source": [
    "# 25(A). Using Pandas, make your own .CSV file with data on vegetables and save it.\n",
    "vegeFrame = pd.DataFrame([[\"Cabbage\",\"green\",\"leafy\",True],[\"Kale\",\"dark green\",\"leafy-cronchy\",True],[\"Cauliflower\",\"white\",\"cronchy\",True], [\"Tomato\",\"red\",\"juicy\",False]],columns= [\"Name\",\"Color\",\"Texture\",\"Is Vegetable?\"])\n",
    "vegeFrame.to_csv(\"vegeTable.csv\", index=False, sep='\\t')\n",
    "\n",
    "# # 25(B). Using Pandas, make a change to your CSV file, and save a copy with a different name.\n",
    "vegTableQuery = pd.read_csv(\"vegeTable.csv\", sep=\"\\t\")\n",
    "vegTableQuery.sort_values(by=\"Name\", inplace=True)\n",
    "vegTableQuery = vegTableQuery.replace(to_replace=\"cronchy\", value=\"crunchy\")\n",
    "vegTableQuery.to_csv(\"sorted_vegeTable.csv\", index=False, sep=\"\\t\")\n",
    "vegTableQuery\n"
   ]
  }
 ],
 "metadata": {
  "kernelspec": {
   "display_name": "Python 3",
   "language": "python",
   "name": "python3"
  },
  "language_info": {
   "codemirror_mode": {
    "name": "ipython",
    "version": 3
   },
   "file_extension": ".py",
   "mimetype": "text/x-python",
   "name": "python",
   "nbconvert_exporter": "python",
   "pygments_lexer": "ipython3",
   "version": "3.11.3"
  },
  "orig_nbformat": 4
 },
 "nbformat": 4,
 "nbformat_minor": 2
}
