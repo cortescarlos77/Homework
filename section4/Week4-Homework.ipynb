{
 "cells": [
  {
   "attachments": {},
   "cell_type": "markdown",
   "metadata": {},
   "source": []
  },
  {
   "cell_type": "code",
   "execution_count": null,
   "metadata": {},
   "outputs": [],
   "source": [
    "# 1.\n",
    "\n",
    "# Create an if statement: if 'age' is greater than or equal to 25,\n",
    "# print \"Renting a car is more affordable\", however if 'age' is less than 25,\n",
    "# print \"Renting a car is very expensive.\"\n",
    "\n",
    "age = int(input(\"Please enter your age: \\n\"))\n",
    "\n",
    "if age >= 25:\n",
    "    print(\"Renting a car is more affordable\")\n",
    "else:\n",
    "    print(\"Renting a car is very expensive\")\n"
   ]
  },
  {
   "cell_type": "code",
   "execution_count": null,
   "metadata": {},
   "outputs": [],
   "source": [
    "# # 2.\n",
    "# Create and chain an if-else statement: if 'age' is greater than or equal to 25, print \"Renting a car is more affordable.\"\n",
    "# If 'age' is less than 25 but greater than or equal to 18, print \"Renting a car is very expensive.\"\n",
    "# Finally, if age is less than 18, print \"You cannot legally rent a car.\"\n",
    "\n",
    "age = int(input(\"Please enter your age: \\n\"))\n",
    "\n",
    "if age >= 25:\n",
    "    print(\"Renting a car is more affordable\")\n",
    "elif age >= 18 and age < 25:\n",
    "    print(\"Renting a car is very expensive\")\n",
    "else:\n",
    "    print(\"You cannot legally rent a car\")\n"
   ]
  },
  {
   "cell_type": "code",
   "execution_count": null,
   "metadata": {},
   "outputs": [],
   "source": [
    "# 3.\n",
    "# Loop over the following string: # \"The quick brown fox jumps over the lazy dog\"\n",
    "\n",
    "# (1) count all the characters in the string and\n",
    "string1 = \"The quick brown fox jumps over the lazy dog\"\n",
    "count = 0\n",
    "\n",
    "for letters in string1:\n",
    "    count = count + 1\n",
    "\n",
    "print(count)\n",
    "\n",
    "\n",
    "# (2) print out all the vowels\n",
    "vowels = [\"a\",\"e\",\"i\",\"o\",\"u\",\"y\"]\n",
    "\n",
    "for letter in string1:\n",
    "    if (letter in vowels):\n",
    "        print(letter)\n"
   ]
  },
  {
   "cell_type": "code",
   "execution_count": null,
   "metadata": {},
   "outputs": [],
   "source": [
    "# 4.\n",
    "# Write a nested loop that prints out every piece of clothing from the couture list,\n",
    "# in every fashionable color from the panettone set:\n",
    "\n",
    "couture = [\"trousers\", \"blouse\", \"bandana\", \"cumber band\", \"blazer\", \"vest\", \"french beret\", \"scarf\", \"stole\"]\n",
    "panettone = {\"cerise\", \"fuchsia\", \"aqua\", \"maple\", \"auburn\", \"burnt sienna\", \"gunmetal blue\", \"Dark Sapphire\"}\n",
    "\n",
    "for item in couture:\n",
    "    for color in panettone:\n",
    "        print(color,item)"
   ]
  },
  {
   "cell_type": "code",
   "execution_count": null,
   "metadata": {},
   "outputs": [],
   "source": [
    "# 5.\n",
    "# Use range as a loop to calculate the sum of all the numbers from 1 to 100\n",
    "\n",
    "sum = 1\n",
    "for n in range(2,101):\n",
    "    sum = n + sum\n",
    "\n",
    "sum\n"
   ]
  },
  {
   "cell_type": "code",
   "execution_count": null,
   "metadata": {},
   "outputs": [],
   "source": [
    "# 6. Print the second item in this fruits list\n",
    "fruits = [\"apple\", \"banana\", \"cherry\"]\n",
    "print(fruits[1])\n",
    "\n",
    "# 7. Change the value from \"apple\" to \"kiwi\", in the fruits list.\n",
    "fruits[0] = \"kiwi\"\n",
    "print(fruits)\n",
    "\n",
    "# 8. Use the append method to add \"orange\" to the fruits list.\n",
    "fruits.append(\"orange\")\n",
    "print(fruits)\n",
    "\n",
    "# 9. Use the insert method to add \"lemon\" as the second item in the fruits list.\n"
   ]
  },
  {
   "cell_type": "markdown",
   "metadata": {},
   "source": []
  },
  {
   "cell_type": "code",
   "execution_count": null,
   "metadata": {},
   "outputs": [],
   "source": [
    "\"\"\"\n",
    "Create a new variable called savvy,\n",
    "and assign it the string with this phrase\n",
    "\"Learning Data Analytics and Python is Awesome!\"\n",
    "\"\"\"\n",
    "# Return a range of characters that slices the above string from the beginning of \"ing\" up to before \"and\"\n",
    "# Replace \"Awesome\" with \"great\" in the string\n",
    "# Test and print the savvy string to see it contains \"Python\"\n",
    "\n",
    "\n"
   ]
  },
  {
   "cell_type": "code",
   "execution_count": null,
   "metadata": {},
   "outputs": [],
   "source": [
    "list = [\"Carlos\", 21, 55.98, {\"decade\":\"10\"}, [10,\"big\"]]\n",
    "list[0] = \"Adam\"\n",
    "list.append(52.9)\n",
    "print(list)\n",
    "# print(len(list))\n",
    "\n",
    "list2 = list[0:3]\n",
    "print(list2)"
   ]
  },
  {
   "cell_type": "code",
   "execution_count": null,
   "metadata": {},
   "outputs": [],
   "source": []
  }
 ],
 "metadata": {
  "kernelspec": {
   "display_name": "Python 3",
   "language": "python",
   "name": "python3"
  },
  "language_info": {
   "codemirror_mode": {
    "name": "ipython",
    "version": 3
   },
   "file_extension": ".py",
   "mimetype": "text/x-python",
   "name": "python",
   "nbconvert_exporter": "python",
   "pygments_lexer": "ipython3",
   "version": "3.11.3"
  },
  "orig_nbformat": 4
 },
 "nbformat": 4,
 "nbformat_minor": 2
}
