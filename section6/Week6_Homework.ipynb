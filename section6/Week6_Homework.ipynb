{
 "cells": [
  {
   "attachments": {},
   "cell_type": "markdown",
   "metadata": {},
   "source": [
    "#### Section 6 Homework – Capstone development\n",
    "\n",
    "1. Create a definitive problem statement to be solved with data \n",
    "analytics.\n",
    "   * 1-3 sentences.\n",
    "   * brief overview of topic with context to \n",
    "help understand the problem statement.\n",
    "\n",
    "1. Provide your datasets.\n",
    "     * In .csv / sql format\n",
    "     * -or- a website that will be accessed with webscraping/API.  If \n",
    "possible, include the Python code to be used for accessing this \n",
    "data.\n",
    "    * Provide an explanation of the datasets you submit.\n",
    "\n",
    "1. Describe your plan on how to use this data to answer your problem \n",
    "statement. \n",
    "    * Create a brief write-up (typically 3-5 sentences) describing your \n",
    "plan of what you intend to do with that data to solve your \n",
    "question.\n",
    "    * Submit your homework to git hub, to include pushing your\n",
    "dataset files to your repo."
   ]
  },
  {
   "attachments": {},
   "cell_type": "markdown",
   "metadata": {},
   "source": [
    "## Homework 6\n",
    "\n",
    "#### Problem Statement:\n",
    "\n",
    "Is California's water supply efficient and resilient enough to meet demand and respond to climate change trends?\n",
    "* Calculate the annual water supply \"balance sheet\" for 2021, 2022, or 2023:\n",
    "    * Demand - Reserve Storage = Storage surplus\n",
    "    * Determine a metric for storage capacity (annual demand/storage surplus = Years of Supply)\n",
    "\n",
    "#### Datasets:\n",
    "\n",
    "I am still refining down my datasets. I have a large volume of possible sources to filter down.\n",
    "\n",
    "#### Methods:\n",
    "\n",
    "I will complete this capstone analysis by processing the data into 3 single calculations.\n",
    "   1. Gather datasets\n",
    "   1. Clean Datasets\n",
    "   1. Calculate annual demand as sum of contractor usage\n",
    "   1. Calculate sum of annual storage supply by Project\n",
    "   1. Use simple arithmatic to find the difference between the supply and demand and find other relevant metrics.   \n"
   ]
  },
  {
   "cell_type": "code",
   "execution_count": null,
   "metadata": {},
   "outputs": [],
   "source": []
  }
 ],
 "metadata": {
  "kernelspec": {
   "display_name": "Python 3",
   "language": "python",
   "name": "python3"
  },
  "language_info": {
   "codemirror_mode": {
    "name": "ipython",
    "version": 3
   },
   "file_extension": ".py",
   "mimetype": "text/x-python",
   "name": "python",
   "nbconvert_exporter": "python",
   "pygments_lexer": "ipython3",
   "version": "3.11.3"
  },
  "orig_nbformat": 4
 },
 "nbformat": 4,
 "nbformat_minor": 2
}
